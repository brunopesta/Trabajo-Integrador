{
 "cells": [
  {
   "cell_type": "markdown",
   "metadata": {},
   "source": [
    "#                                        Presentacion Final Seminario Python 2022\n",
    "\n",
    "## Figurace\n",
    "\n",
    "### Integrantes:\n",
    " * Cametho Federico\n",
    " * Castillo Franco\n",
    " * Parrillo Felipe\n",
    " * Pestaña Carrusca Bruno"
   ]
  },
  {
   "cell_type": "markdown",
   "metadata": {},
   "source": [
    "### Temario \n",
    "\n",
    "- Estructuracion de los archivos del proyecto, buenas practicas, aciertos y errores dentro de nuestro Proyecto.\n",
    "- Problematicas de \"hacer sobre la marcha\", la reestructuracion del programa durante el desarrollo y como mejorar estas practicas para que no vuelvan a ocurrir.\n",
    "-"
   ]
  },
  {
   "cell_type": "markdown",
   "metadata": {},
   "source": [
    "# 1. Estructuracion de los archivos del proyecto, buenas practicas, aciertos y errores dentro de nuestro Proyecto.\n"
   ]
  },
  {
   "cell_type": "markdown",
   "metadata": {},
   "source": [
    "### Estructuracion de los Archivos\n",
    "\n",
    "\n",
    "* Niveles de carpetas por funcionalidad o tipo de archivo. [Estadistica - Archivos(multimedia y datasets) - Pantallas - Manejadores - Otros recursos (procesamiento datasets, procesamiento analisis de datos, config, clases, json)]\n",
    "\n",
    "* Comparacion, ventajas y deteccion de errores en codigo. Consideraciones para la implementacion(importaciones).\n",
    "\n",
    "* Consideraciones dentro de los archivos .py de la carpeta Screens(Logica / Layout).\n",
    "\n",
    "* Posibles implementaciones para llevar este diseño al siguiente nivel."
   ]
  },
  {
   "cell_type": "markdown",
   "metadata": {},
   "source": [
    "### Implementacion de rutas y configuraciones default\n",
    "\n",
    "* Parametrizacion y accesibilidad de rutas y configuraciones.\n",
    "\n",
    "* Facil mantenimiento y mayor escalabilidad."
   ]
  },
  {
   "cell_type": "markdown",
   "metadata": {},
   "source": [
    "### Utilizacion de clases para mantener el estado de la partida y jugador.\n",
    "\n",
    "* Clase jugador, descripcion y funcionalidad.\n",
    "\n",
    "* Clase Estado_partida, descripcion y funcionalidad.\n",
    "\n",
    "* Pulido de clases y mejoras que podrian implementarse(Property, decoradores, transferencia de datos por cada log o evento y no por partida)."
   ]
  },
  {
   "cell_type": "markdown",
   "metadata": {},
   "source": [
    "# 2. Problematicas de ir \"haciendo sobre la marcha\", la reestructuracion de como trabajaba el programa durante el desarrollo y como mejorar estas practicas para que no vuelvan a ocurrir."
   ]
  },
  {
   "cell_type": "markdown",
   "metadata": {},
   "source": [
    "### Actuar antes de pensar\n",
    "\n",
    "* Muchas ganas de empezar, pero sin pararse a pensar.\n",
    "\n",
    "* Poca comunicacion en el principio del desarrollo.\n",
    "\n",
    "* Mala planificacion previa de las estructuras donde se almacenaban los datos para sus futuros usos."
   ]
  },
  {
   "cell_type": "markdown",
   "metadata": {},
   "source": [
    "### Reestructuracion durante el desarrollo\n",
    "\n",
    "* Cambios sobre la marcha en estructuras de datos.\n",
    "\n",
    "* Modificaciion sobre como se comportaba el programa.\n",
    "\n",
    "* Cambios en la logica por encontrar conflictos al querer incorporar nuevas funciones.\n",
    "\n",
    "* Perida de tiempo y eficacia al tener que modificar lo ya hecho. "
   ]
  },
  {
   "cell_type": "markdown",
   "metadata": {},
   "source": [
    "### Aprender de los errores\n",
    "\n",
    "* Planificar la estructura del programa antes de empezar a programar.\n",
    "\n",
    "* Charlas en equipo acordando decisiones en conjunto.\n",
    "\n",
    "* Uso de diversas Branchs en el repositorio. \n",
    " \n",
    "* Ser claros en que parametros ingresan y devuelve cada funcion."
   ]
  }
 ],
 "metadata": {
  "kernelspec": {
   "display_name": "Python 3.10.5 64-bit (windows store)",
   "language": "python",
   "name": "python3"
  },
  "language_info": {
   "name": "python",
   "version": "3.10.5"
  },
  "orig_nbformat": 4,
  "vscode": {
   "interpreter": {
    "hash": "d029716f10db634c2b5cde7caa0187b453103422a737eb89db6f2e156b98b1b3"
   }
  }
 },
 "nbformat": 4,
 "nbformat_minor": 2
}
