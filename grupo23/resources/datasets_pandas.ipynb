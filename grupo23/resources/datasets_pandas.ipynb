{
 "cells": [
  {
   "cell_type": "markdown",
   "metadata": {},
   "source": [
    "# Proceso de Conversion de los Datasets originales a los archivos CSV que serviran de datos para el juego\n",
    "\n",
    "Los datasets elegidos para el desarrollo del juego son: \n",
    "* GRUPO A:\n",
    "    - Lagos\n",
    "    - Top 100 de temas musicales de Spotify 2010 a 2019\n",
    " * GRUPO B:\n",
    "    - FIFA 2021 Complete Player Dataset"
   ]
  },
  {
   "cell_type": "markdown",
   "metadata": {},
   "source": [
    "## Lagos\n",
    "\n",
    "##### Proceso Paso a Paso\n",
    "\n",
    "Primero la importacion del modulo os y la librería Pandas que seran necesarios para operar sobre los archivos\n",
    "\n",
    "Tambien se importa desde el archivo config.py las rutas \n",
    "FILES_ROOT = ```os.path.abspath(os.path.join(ROOT, \"files\"))```\n",
    "DATASET_ROOT = ```os.path.abspath(os.path.join(ROOT, \"files\", \"datasets_final\"))```"
   ]
  },
  {
   "cell_type": "code",
   "execution_count": 1,
   "metadata": {},
   "outputs": [],
   "source": [
    "import os\n",
    "import pandas as pd\n",
    "from config import FILES_ROOT, DATASET_ROOT"
   ]
  },
  {
   "cell_type": "markdown",
   "metadata": {},
   "source": [
    "### 1. Definir las funciones que serviran para el procesamiento de los datos"
   ]
  },
  {
   "cell_type": "markdown",
   "metadata": {},
   "source": [
    "#### ```def pasaje_sexagesimal(linea):```\n",
    "\n",
    "Esta función es utilizada para convertir la columna de coordenadas en grados decimales, para lo cual hay que realizar una conversión desde el sistema sexagesimal a grados decimales.\n",
    "\n",
    "Los grados de la coordenada quedan como parte entera, los minutos se dividen por 60, y los segundos se dividen por 3600, luego se suman obteniendo asi las coordenadas expresadas en grados decimales(con redondeo de 3 decimales).\n",
    "\n",
    "Notar que todas las coordenadas estan expresadas en 2 posiciones (una para la latitud y otra para la longitud, por ende al string final de la coordenada se le agrega un \"-\" seguido de la letra inicial del punto cardinal al que hace referencia, es decir S O N E , siendo este el mismo que estaba en el dato original)"
   ]
  },
  {
   "cell_type": "code",
   "execution_count": 2,
   "metadata": {},
   "outputs": [],
   "source": [
    "def pasaje_sexagesimal(linea):\n",
    "    \"\"\" toma la coordenada por parametro, la \"estandariza\" reemplazando los simbolos de grados minutos y segundos\n",
    "    por un caractger especial elegido.\n",
    "    Luego hace un split sobre cada string utilizando dicho caracter especial y asi obteniendo en una lista los elementos \n",
    "    correspondientes a grados - minutos - segundos - punto cardinal en este orden, para finalmente realizar las conversiones\n",
    "    casteando de int a str para las operaciones y volviendo a castear a str antes de retornar el valor completo procesado\"\"\"\n",
    "    coordenadas = list(map(lambda coord: coord.replace('°', \"-\").replace(\"'\",\"-\").replace('\"', \"-\"), linea.split(\" \")))\n",
    "    coordenadas = list(map(lambda elem : str(int(elem[0]) + round(int(elem[1])/60 + int(elem[2])/3600,3)) + \"-\" + elem[3] , map(lambda elem: elem.split('-'), coordenadas)))\n",
    "    return \" \".join(coordenadas)"
   ]
  },
  {
   "cell_type": "markdown",
   "metadata": {},
   "source": [
    "#### ```def filtrado_lagos(data_frame):```\n",
    "\n",
    "Recibe le data frame completo, se aplica la función que nos permite reordenar las columnas y también se convierte las coordenadas de grados a decimales.\n",
    "\n",
    "- Se utiliza la función ```reindex``` provista por Pandas que nos permite reeordenar las columnas del data frame. En este caso se precisa ordenar para su posterior utilizacion por: \"Ubicación”, “Superficie (km²)”, “Profundidad máxima (m)”, “Profundidad media (m)”, “Coordenadas” y “Nombre” . Además esta función descarta las columnas que no se ingresan por parámetro.\n",
    "\n",
    "- Se le aplica la función  ```title``` a los encabezados de cada columna para que queden con el formato: Ubicación”, “Superficie (Km²)”, “Profundidad máxima (M)”, “Profundidad media (M)”, “Coordenadas” y “Nombre”.\n",
    "\n",
    "- A la columna \"Coordenadas\" se le aplica la función ```apply``` (provista por Pandas), la cual le aplica una función a todos los elementos de una columna. A esta columna le vamos a aplicar la función ```pasaje_sexagesimal``` para asi guardar luego del mappeo las coordenadas ya convertidas a grados decimales.\n",
    "\n",
    "- Finalmente se retorna el data frame con los ```datos``` de los lagos ya ordenados y con sus coordenadas convertidas.\n"
   ]
  },
  {
   "cell_type": "code",
   "execution_count": 3,
   "metadata": {},
   "outputs": [],
   "source": [
    "def filtrado_lagos(data_frame):\n",
    "   \"\"\"Se recibe el data frame completo. \n",
    "      - Se reordenan las columnas por : 'Ubicación', 'Superficie (km²)', 'Profundidad máxima (m)', 'Profundidad media (m)', 'Coordenadas' y 'Nombre'\n",
    "      - Se ponen en mayúscula la primer letra de cada palabra de los nombres de las columnas.\n",
    "      - A los datos de las columnas 'Profundidad Máxima (M)' y 'Profundidad Media (M)', que sean nulos (NaN), se las reemplazan por el String 'Desconocida'\n",
    "      - Se convierten las coordenadas en Grados, Minutos y Segundos a coordenadas decimales\n",
    "      - Se retorna el data frame\n",
    "      \"\"\"\n",
    "\n",
    "   data_frame = data_frame.reindex(columns=['Ubicación', 'Superficie (km²)', 'Profundidad máxima (m)', 'Profundidad media (m)', 'Coordenadas', 'Nombre'])\n",
    "   data_frame.columns = data_frame.columns.str.title()\n",
    "\n",
    "   data_frame['Profundidad Máxima (M)'] = data_frame['Profundidad Máxima (M)'].fillna(\"Desconocida\")\n",
    "   data_frame['Profundidad Media (M)'] = data_frame['Profundidad Media (M)'].fillna(\"Desconocida\")\n",
    "   data_frame['Coordenadas'] = data_frame['Coordenadas'].apply(pasaje_sexagesimal)\n",
    "   return data_frame\n",
    "   "
   ]
  },
  {
   "cell_type": "markdown",
   "metadata": {},
   "source": [
    "#### ```def crear_lagos(data_frame):```\n",
    "Recibe el data frame completo (cada línea interna es un lago y cada campo dentro de esta lista es un dato correspondiente a dicho lago).\n",
    "\n",
    "- Primero: se llama la función ```filtrado_lagos(data_frame```).\n",
    "- Se retorna el data frame modificado"
   ]
  },
  {
   "cell_type": "code",
   "execution_count": 4,
   "metadata": {},
   "outputs": [],
   "source": [
    "def crear_lagos(data_frame):\n",
    "    \"\"\"Recibe el data frame completo, llama a la función 'filtrado_lago()', enviando el data frame como parámetro y retorna el data frame\"\"\"\n",
    "    data_frame = filtrado_lagos(data_frame)\n",
    "    return data_frame\n"
   ]
  },
  {
   "cell_type": "markdown",
   "metadata": {},
   "source": [
    "## 2. Declaracion de las rutas a utilizar dentro de la estructura de archivos del juego\n",
    "\n",
    "La estructura cuenta con una carpeta llamada \"files\".\n",
    "\n",
    "En dicha carpeta, se encuentra una carpeta con el nombre \"datasets_base\" en la cual se almacenan los datasets originales.\n",
    "\n",
    "Los datasets modificados y listos para la utilizacion de acuerdo a los requerimientos del juego, seran guardados dentro de la carpeta \"files\" en una carpeta llamada \"datasets_final\"\n",
    "\n",
    "Es decir, desde donde se ejecuta el programa:\n",
    "\n",
    ". >files>datasets_base                      -   aqui se ecuentran los archivos csv originales\n",
    "\n",
    ". >files>datasets_final                     -   aqui se almacenaran los archivos csv procesados y posteriormente utilizados para la funcionalidad del juego"
   ]
  },
  {
   "cell_type": "code",
   "execution_count": 5,
   "metadata": {},
   "outputs": [],
   "source": [
    "origen = \"datasets_base\""
   ]
  },
  {
   "cell_type": "markdown",
   "metadata": {},
   "source": [
    "## 3. Apertura del archivo ORIGINAL y su procesamiento\n",
    "\n",
    "Se lee el archivo origen (con el csv sin procesar aun), haciendo un Join de la \"ruta_completa\" con \"origen\".\n",
    "\n",
    "Esto lo realizamos usando la función de ```read_csv``` que nos proveé Pandas, indicando por parámetros que vamos a utilizar el caracter \",\" como separador. Esto nos genera un data frame que lo guardaremos en una variable para ser manipulado.\n"
   ]
  },
  {
   "cell_type": "code",
   "execution_count": 6,
   "metadata": {},
   "outputs": [],
   "source": [
    "data_frame = pd.read_csv(os.path.join(FILES_ROOT, origen, 'lagos.csv'), sep=',', encoding=\"utf-8\")\n"
   ]
  },
  {
   "cell_type": "markdown",
   "metadata": {},
   "source": [
    "## 4. Creacion del archivo FINAL\n",
    "\n",
    "Una vez guardado el data frame en una variable llamamos a la función ```crear_lagos(data_frame)```, enviando el data frame como parámetro.\n",
    "\n",
    "Con el data frame ya modificado, lo guardamos en un nuevo CSV para su utilización."
   ]
  },
  {
   "cell_type": "code",
   "execution_count": 7,
   "metadata": {},
   "outputs": [],
   "source": [
    "data_frame = crear_lagos(data_frame)\n",
    "data_frame.to_csv(os.path.join(DATASET_ROOT, 'lagos_filtrado_pandas.csv'), encoding=\"utf-8\")\n"
   ]
  },
  {
   "cell_type": "markdown",
   "metadata": {},
   "source": [
    "## Top 100 de temas musicales de Spotify 2010 a 2019\n",
    "\n",
    "##### Proceso Paso a Paso\n",
    "\n",
    "La importacion de los modulos os y Pandas que seran necesarios para operar sobre los archivos ya fue realizada anteriormente por lo que no es necesario hacerlo nuevamente, ya que se realiza una sola vez por sesion de interprete.\n"
   ]
  },
  {
   "cell_type": "markdown",
   "metadata": {},
   "source": [
    "### 1. Definir las funciones que serviran para el procesamiento de los datos"
   ]
  },
  {
   "cell_type": "markdown",
   "metadata": {},
   "source": [
    "#### ``` def filtrado_spotify(data_frame):```\n",
    "\n",
    "Esta función recibe el data frame completo, y les aplica:\n",
    "\n",
    "- Primero: Se utiliza la función ```reindex``` provista por Pandas que nos permite reeordenar las columnas del data frame. En este caso se precisa ordenar para su posterior utilizacion por: \"top genre\", \"artist type\", \"year released\", \"top year\", \"bpm\" y \"artist\" . Además esta función descarta las columnas que no se ingresan por parámetro.\n",
    "\n",
    "- Segundo: Se le aplica la función  ```title``` a los encabezados de cada columna para que queden con el formato: \"Top Genre, \"Artist Type\", \"Year Released\", \"Top Year\", \"Bpm\" y \"Artist\".\n",
    "\n",
    "- Tercero: Se utiliza la función rename para renombrar el encabezado de la columna \"Bpm\", para que quede con el formato \"BPM\"\n",
    "\n",
    "- Cuarto: Se retorna el data frame"
   ]
  },
  {
   "cell_type": "code",
   "execution_count": 8,
   "metadata": {},
   "outputs": [],
   "source": [
    "def filtrado_spotify(data_frame):\n",
    "    '''Se recibe data frame completo. Y:\n",
    "        - Se reordenan las columnas por 'top genre', 'artist type', 'year released', 'top´year', 'bpm', 'artist'.\n",
    "        - Se ponen en mayúscula la primer letra de cada palabra de los nombres de las columnas.\n",
    "        - Se renombra la columna 'Bpm' por su equivalente en mayúsculas\n",
    "        - Se retorna el data frame modificado.\n",
    "    '''\n",
    "    \n",
    "    data_frame = data_frame.reindex(columns=['top genre', 'artist type', 'year released', 'top year', 'bpm', 'artist'])\n",
    "    data_frame.columns = data_frame.columns.str.title()\n",
    "    data_frame.rename(columns={'Bpm':'BPM'}, inplace=True)\n",
    "    return data_frame\n"
   ]
  },
  {
   "cell_type": "markdown",
   "metadata": {},
   "source": [
    "#### ```def estilo_generos(genero):```\n",
    "\n",
    "Funcion auxiliar que evalua si el Genero pasado por parametro - String - contiene alguna de las excepciones de estilo para los nombres de los generos que se encuentran en la lista de excepciones.\n",
    "\n",
    "- Primero: Se crea la lista de excepciones. En este caso son: \"edm\", \"dfw\", \"uk\", \"lgbtq+\" y \"r&b\"\n",
    "\n",
    "- Segundo: Si el genero está compuesto por más de una palabra, se separa en una lista que contiene cada una de las palabras del genero para su fácil manipulación.\n",
    "\n",
    "- Tercero: Se crea una lista por comprensión. En la cual, si la palabra actual de la lista separada se encuentra en la lista de excepciones, se le aplica la función ```upper``` para convertir a mayúsculas todas las letras de la palabra. De caso contrario, se aplica la función ```title``` para poner en mayúscula la primera letra de la palabra. En cualquiera de los dos casos se guarda en la lista por comprensión.\n",
    "\n",
    "- Cuarto: Se retorna la lista haciendo un ```join``` de la lista por comprensión, para generar nuevamente el genero en un único String."
   ]
  },
  {
   "cell_type": "code",
   "execution_count": 9,
   "metadata": {},
   "outputs": [],
   "source": [
    "def estilo_generos(genero):\n",
    "    \"\"\"Se recibe una línea de la columna 'genero' del data frama. Para convertir las palabras \n",
    "    - Se crea una lista con las excepciones de las palabras a modificar. En este caso 'edm', 'dfw', 'uk', 'lgbtq+' y 'r&b'\n",
    "    - En caso de que haya más de una palabra en el genero musical, se las separa en una lista\n",
    "    - Se crea una lista por comprensión, en el que se itera por la lista de palabras separadas, y por cada palabra pregunta si la palabra se encuentra en la lista de excepsiones. En caso de encontrarse, se la pone la palabra entera en mayúsculas. En caso de no encontrarse, se pone en mayúscula la primer letra de la palabra\n",
    "    - Con la lista de palabras modificadas, se retorna un String compuesto por cada palabra de la lista unidas por un espacio\n",
    "    \"\"\"\n",
    "\n",
    "    excepciones=['edm', 'dfw', 'uk', 'lgbtq+', 'r&b']\n",
    "    genero = genero.split(' ')\n",
    "    lista_genero = [palabra.upper() if palabra in excepciones else palabra.title() for palabra in genero]\n",
    "    return ' '.join(lista_genero)\n"
   ]
  },
  {
   "cell_type": "markdown",
   "metadata": {},
   "source": [
    "#### ```def crear_spotify(data_frame):```\n",
    "Recibe el data frame completo para su modificación.\n",
    "\n",
    "- Primero: Se aplica al data frame completo la función ```dropna(how='all')```. Esto descarta las filas en las que todos sus campos no tengan datos (NaN).\n",
    "\n",
    "- Segundo: Se llama a la función ```convert_dtypes(convert_integer=True)```, para convertir los valores float a integer.\n",
    "\n",
    "- Tercero: Se invoca la función ```filtrado_spotify(data_frame)```, enviando el data frame para su modificación.\n",
    "\n",
    "- Cuarto: Se le aplica a la columna \"Top Genre\", mediante ```apply```, la función ```estilo_generos()```\n",
    "\n",
    "- Quinto: Se retorna el data frame"
   ]
  },
  {
   "cell_type": "code",
   "execution_count": 10,
   "metadata": {},
   "outputs": [],
   "source": [
    "def crear_spotify(data_frame):\n",
    "    \"\"\" Se recibe el data frame completo.\n",
    "        - Se eliminan las filas en las que todas sus columnas no tengan datos (NaN)\n",
    "        - Se convierten todos los valores numéricos a enteros\n",
    "        - Se reordenan las columnas, se renombra la columna 'bpm' y se pone en mayúscula la primer letra de cada nombre de columna\n",
    "        - Se ponen en mayúsculas las palabras 'edm', 'dfw', 'uk', 'lgbtq+' y 'r&b' de cada genero musical \n",
    "        - Se retorna el data frame\n",
    "    \"\"\"\n",
    "\n",
    "    data_frame = data_frame.dropna(how='all')\n",
    "    data_frame = data_frame.convert_dtypes(convert_integer=True)\n",
    "    data_frame = filtrado_spotify(data_frame)\n",
    "    data_frame['Top Genre'] = data_frame['Top Genre'].apply(estilo_generos)\n",
    "    return data_frame"
   ]
  },
  {
   "cell_type": "markdown",
   "metadata": {},
   "source": [
    "## 3. Apertura del archivo ORIGINAL y su procesamiento\n",
    "\n",
    "Se lee el archivo origen (con el csv sin procesar aun), haciendo un Join de la \"ruta_completa\" con \"origen\".\n",
    "\n",
    "Esto lo realizamos usando la función de ```read_csv``` que nos proveé Pandas, indicando por parámetros que vamos a utilizar el caracter \",\" como separador. Esto nos genera un data frame que lo guardaremos en una variable para ser manipulado.\n"
   ]
  },
  {
   "cell_type": "code",
   "execution_count": 11,
   "metadata": {},
   "outputs": [],
   "source": [
    "ruta = os.path.join(FILES_ROOT, origen)\n",
    "data_frame = pd.read_csv(os.path.join(ruta, 'spotify.csv'), sep=',', encoding=\"utf-8\")"
   ]
  },
  {
   "cell_type": "markdown",
   "metadata": {},
   "source": [
    "## 4. Creacion del archivo FINAL\n",
    "\n",
    "Una vez guardado el data frame en una variable llamamos a la función ```crear_spotify(data_frame)```, enviando el data frame como parámetro.\n",
    "\n",
    "Con el data frame ya modificado, lo guardamos en un nuevo CSV para su utilización."
   ]
  },
  {
   "cell_type": "code",
   "execution_count": 12,
   "metadata": {},
   "outputs": [],
   "source": [
    "\n",
    "data_frame = crear_spotify(data_frame)\n",
    "data_frame.to_csv(os.path.join(DATASET_ROOT, 'spotify_filtrado_pandas.csv'), encoding=\"utf-8\")"
   ]
  },
  {
   "cell_type": "markdown",
   "metadata": {},
   "source": [
    "## FIFA 2021 Complete Player Dataset\n",
    "\n",
    "##### Proceso Paso a Paso\n",
    "\n",
    "La importacion de los modulos os y Pandas que seran necesarios para operar sobre los archivos ya fue realizada anteriormente por lo que no es necesario hacerlo nuevamente, ya que se realiza una sola vez por sesion de interprete.\n"
   ]
  },
  {
   "cell_type": "markdown",
   "metadata": {},
   "source": [
    "### 1. Definir las funciones que serviran para el procesamiento de los datos"
   ]
  },
  {
   "cell_type": "markdown",
   "metadata": {},
   "source": [
    "#### ``` def potencial(score):```\n",
    "\n",
    "Recibe por parametro el String score correspondiente al valor de la columna del data frame.\n",
    "\n",
    "Lo convierte a integer para luego hacer las comparaciones y asignarle de acuerdo al valor en la escala, un adjetivo calificativo que luego reemplazara al valor numerico en la columna de potencial del data frame."
   ]
  },
  {
   "cell_type": "code",
   "execution_count": 13,
   "metadata": {},
   "outputs": [],
   "source": [
    "def potencial(score):\n",
    "    \"\"\" Recibe por parametro el String score correspondiente al valor de la columna del data frame. Lo convierte a integer para luego hacer las comparaciones y asignarle de acuerdo\n",
    "    al valor en la escala, un adjetivo calificativo que luego reemplazara al valor numerico en la columna de potencial del data frame final. Se retorna dicho valor expresado como \n",
    "    adjetivo calificativo. \"\"\"\n",
    "\n",
    "    score = int(score)\n",
    "    if  score < 60: \n",
    "        score = \"Regular\" \n",
    "    elif score <= 79:\n",
    "        score = \"Bueno\"\n",
    "    elif score <= 89:\n",
    "        score = \"Muy Bueno\"\n",
    "    else:\n",
    "        score = \"Sobresaliente\"\n",
    "    return score\n"
   ]
  },
  {
   "cell_type": "markdown",
   "metadata": {},
   "source": [
    "#### ``` def traducir_posiciones(posicion):```\n",
    "\n",
    "Recibe por parametro el String con la posicion o posiciones del jugador de futbol.\n",
    "\n",
    "1. Se crea un diccionario con las traducciones de cada sigla en inglés a su traducción en español.\n",
    "2. Lo divide mediante el caracter \" | \" que separa las multiples posiciones del jugador (en caso de que tenga más de una posición), obteniendo asi una lista de posiciones\n",
    "3. Para cada posible posicion del jugador, segun sean las siglas de la misma, se reemplaza su valor por la descripcion en español de la misma\n",
    "4. Vuelve a unir mediante el caracter especial \" | \" las posiciones ya traducidas y retorna el dicho String\n"
   ]
  },
  {
   "cell_type": "code",
   "execution_count": 14,
   "metadata": {},
   "outputs": [],
   "source": [
    "\n",
    "def traducir_posiciones(posicion):\n",
    "    '''Se recibe una línea de la columna de posiciones del data frame.\n",
    "    - Se crea un diccionario en el que cada clave son las siglas de una posición en inglés, y su valor es su traducción en español\n",
    "    - En caso de que haya más de una posición por línea, se las separa en una lista\n",
    "    - Se crea una lista por comprensión, en el que se itera por cada posición en la lista de posiciones separadas. Y a cada posición se la reemplaza por su valor en el diccionario de traducciones\n",
    "    - Se devuelve un String compuesto por las cada posición traducida, unida por el caracter \"|\" '''\n",
    "    posiciones={\"GK\":\"Arquero\", \n",
    "            \"ST\":\"Segundo Delantero\",\n",
    "            \"CF\":\"Delantero Centro\", \n",
    "            \"RW\":\"Extremo Derecho\", \n",
    "            \"LW\":\"Extremo Izquierdo\", \n",
    "            \"LS\":\"Delantero Izquierdo\", \n",
    "            \"RS\":\"Delantero Derecho\", \n",
    "            \"CAM\":\"Centrocampista Ofensivo Central\", \n",
    "            \"RAM\":\"Centrocampista Ofensivo Derecho\", \n",
    "            \"LAM\": \"Centrocampista Ofensivo Izquierdo\", \n",
    "            \"LM\":\"Mediocampista Izquierdo\", \n",
    "            \"LCM\":\"Mediocampista Central Izquierdo\", \n",
    "            \"CM\":\"Mediocampista Central\", \n",
    "            \"RCM\":\"Mediocampista Central Derecho\", \n",
    "            \"RM\":\"Mediocampista Derecho\", \n",
    "            \"LDM\": \"Mediocampista Defensivo Izquierdo\", \n",
    "            \"CDM\":\"Mediocampista Defensivo Central\", \n",
    "            \"RDM\":\"Mediocampista Defensivo Derecho\", \n",
    "            \"RWB\":\"Defensor Extremo Derecho\", \n",
    "            \"RB\":\"Defensor Lateral Derecho\", \n",
    "            \"RCB\":\"Defensor Central Derecho\", \n",
    "            \"CB\":\"Defensor Central\", \n",
    "            \"LCB\":\"Defensor Central Izquierdo\", \n",
    "            \"LB\":\"Defensor Lateral Izquierdo\", \n",
    "            \"LWB\":\"Defensor Extremo Izquierdo\", \n",
    "            \"SW\":\"Libero\"}\n",
    "\n",
    "    lista_posiciones = posicion.split('|')\n",
    "    lista_remplazada = [posiciones[posicionActual] for posicionActual in lista_posiciones]\n",
    "    return('|'.join(lista_remplazada))"
   ]
  },
  {
   "cell_type": "markdown",
   "metadata": {},
   "source": [
    "#### ``` def filtrado_fifa(data_frame):```\n",
    "\n",
    "Recibe por parametro el data frame. \n",
    "\n",
    "- Se utiliza la función ```reindex``` provista por Pandas que nos permite reeordenar las columnas del data frame. En este caso se precisa ordenar por: \"team\", \"nationality\", \"position\", \"age\", \"potential\", \"name\". Además esta función descarta las columnas que no se ingresan por parámetro.\n",
    "\n",
    "- Se le aplica la función  ```title``` a los encabezados de cada columna para que queden con el formato: “Team”, “Nationality”, “Position”, “Age”, “Potential” y “Name”.\n",
    "\n",
    "- Por último se le aplica la función ```strip``` a los datos de la columna \"Team\", para eliminar los espacios al final y al principio de del String.\n",
    "\n",
    "- Se retorna el data frame con las columnas reeordenadas y el formato correcto de cada encabezado.\n"
   ]
  },
  {
   "cell_type": "code",
   "execution_count": 15,
   "metadata": {},
   "outputs": [],
   "source": [
    "def filtrado_fifa(data_frame):\n",
    "    \"\"\" Recibe el data frame completo. Y:\n",
    "    - Se reordenan las columas por: 'team', 'nationality', 'position', 'age', 'potential' y 'name'\n",
    "    - Se ponen en mayúscula la primer letra de cada palabra de los nombres de las columnas.\n",
    "    - Se eliminan los espacios delante y detrás de los nombres de los equipos\n",
    "    - Se retorna el data frame modificado\"\"\"\n",
    "    \n",
    "    data_frame = data_frame.reindex(columns=['team', 'nationality', 'position', 'age', 'potential', 'name'])\n",
    "    data_frame.columns = data_frame.columns.str.title()\n",
    "    data_frame['Team'] = data_frame['Team'].str.strip()\n",
    "    return data_frame"
   ]
  },
  {
   "cell_type": "markdown",
   "metadata": {},
   "source": [
    "#### ```def crear_fifa(data_frame):```\n",
    "Recibe el data frame completo (cada línea interna es un jugador y cada campo dentro de esta lista es un dato correspondiente a dicho jugador).\n",
    "\n",
    "- Primero: se llama a la función ```filtrado_fifa```, para darle el formato deseado, reeordenar las columnas al orden que nos sea más conveniente y descartar las innecesarias.\n",
    "\n",
    "- Segundo: Se le aplica a cada dato de la columna \"Potential\", mediante el método ```apply```, la función ```potencial(score)```. Esto lo hacemos convertir el potencial en formato numérico de cada jugador a su equivalente con palabras.\n",
    "\n",
    "- Tercero: Nuevamente usando ```apply```, le aplicamos la función ```traducir_posiciones(posicion)``` a cada dato de la columna \"Posicion\". Para traducir su las posiciones con siglas en inglés al español."
   ]
  },
  {
   "cell_type": "code",
   "execution_count": 16,
   "metadata": {},
   "outputs": [],
   "source": [
    "def crear_fifa(data_frame):\n",
    "    \"\"\" Se recibe el data frame completo:\n",
    "        - Se llama a la función 'filtrado_fifa' pasando el data frame como parametro\n",
    "        - Se modifican los potenciales numéricos de los jugadores, por su equivalente en palabras\n",
    "        - Se modifican las posiciones en inglés por su traducción en español\n",
    "        - Se retorna el data frame\n",
    "    \"\"\"\n",
    "\n",
    "    data_frame = filtrado_fifa(data_frame)\n",
    "    data_frame['Potential'] = data_frame['Potential'].apply(potencial)\n",
    "    data_frame['Position'] = data_frame['Position'].apply(traducir_posiciones)\n",
    "    return data_frame"
   ]
  },
  {
   "cell_type": "markdown",
   "metadata": {},
   "source": [
    "## 3. Apertura del archivo ORIGINAL y su procesamiento\n",
    "\n",
    "Se lee el archivo origen (con el csv sin procesar aun), haciendo un Join de la \"ruta_completa\" con \"origen\".\n",
    "\n",
    "Esto lo realizamos usando la función de ```read_csv``` que nos proveé Pandas, indicando por parámetros que vamos a utilizar el caracter \";\" como separador. Esto nos genera un data frame que lo guardaremos en una variable para ser manipulado."
   ]
  },
  {
   "cell_type": "code",
   "execution_count": 17,
   "metadata": {},
   "outputs": [],
   "source": [
    "data_frame = pd.read_csv(os.path.join(FILES_ROOT, origen, 'FIFA-21.csv'), sep=';', encoding=\"utf-8\")"
   ]
  },
  {
   "cell_type": "markdown",
   "metadata": {},
   "source": [
    "## 4. Creacion del archivo FINAL\n",
    "\n",
    "Una vez guardado el data frame en una variable llamamos a la función ```crear_fifa(data_frame)```, enviando el data frame como parámetro.\n",
    "\n",
    "Con el data frame ya modificado, lo guardamos en un nuevo CSV para su utilización."
   ]
  },
  {
   "cell_type": "code",
   "execution_count": 18,
   "metadata": {},
   "outputs": [],
   "source": [
    "data_frame = crear_fifa(data_frame)\n",
    "data_frame.to_csv(os.path.join(DATASET_ROOT,'fifa_filtrado_pandas.csv'), encoding=\"utf-8\")"
   ]
  }
 ],
 "metadata": {
  "kernelspec": {
   "display_name": "Python 3.10.3 64-bit",
   "language": "python",
   "name": "python3"
  },
  "language_info": {
   "codemirror_mode": {
    "name": "ipython",
    "version": 3
   },
   "file_extension": ".py",
   "mimetype": "text/x-python",
   "name": "python",
   "nbconvert_exporter": "python",
   "pygments_lexer": "ipython3",
   "version": "3.10.3"
  },
  "orig_nbformat": 4,
  "vscode": {
   "interpreter": {
    "hash": "3a95adec2dee000d4087e22c53754b1f290ee288e7ac0f747811bea7825ff91d"
   }
  }
 },
 "nbformat": 4,
 "nbformat_minor": 2
}
