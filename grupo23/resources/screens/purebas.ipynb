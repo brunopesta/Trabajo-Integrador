{
 "cells": [
  {
   "cell_type": "code",
   "execution_count": 12,
   "metadata": {},
   "outputs": [
    {
     "name": "stdout",
     "output_type": "stream",
     "text": [
      "20\n",
      "100\n",
      "100\n",
      "25\n",
      "100\n"
     ]
    }
   ],
   "source": [
    "usuarios = {\"Lautaro\": {\n",
    "        \"edad\": 1,\n",
    "        \"genero\": \"m\",\n",
    "        \"puntajes\": {\n",
    "            \"facil\": [],\n",
    "            \"normal\": [],\n",
    "            \"dificil\": [],\n",
    "            \"experto\": [],\n",
    "            \"personalizado\": []\n",
    "        },\n",
    "        \"config\": {\n",
    "            \"rondas\": 10.0,\n",
    "            \"tiempo\": 30.0,\n",
    "            \"acierto\": 10.0,\n",
    "            \"error\": 0.0,\n",
    "            \"pistas\": 2.0,\n",
    "            \"dificultad\": \"personalizado\"\n",
    "        }\n",
    "    \n",
    "},\n",
    "        \"Joaquin\": {\n",
    "        \"edad\": 1,\n",
    "        \"genero\": \"m\",\n",
    "        \"puntajes\": {\n",
    "            \"facil\": [10,15,5,20,9],\n",
    "            \"normal\": [80,20,100,25],\n",
    "            \"dificil\": [30,90,100,50],\n",
    "            \"experto\": [10,14,25,1],\n",
    "            \"personalizado\": [100,80,50,40]\n",
    "        },\n",
    "        \"config\": {\n",
    "            \"rondas\": 15.0,\n",
    "            \"tiempo\": 30.0,\n",
    "            \"acierto\": 5.0,\n",
    "            \"error\": 13.0,\n",
    "            \"pistas\": 4.0,\n",
    "            \"dificultad\": \"personalizado\"\n",
    "        }\n",
    "        }\n",
    "}\n",
    "\n",
    "print(max(usuarios['Lautaro']['puntajes']['facil']))\n",
    "print(max(usuarios['Lautaro']['puntajes']['normal']))\n",
    "print(max(usuarios['Lautaro'][\"puntajes\"][\"dificil\"]))\n",
    "print(max(usuarios['Lautaro'][\"puntajes\"][\"experto\"]))\n",
    "print(max(usuarios['Lautaro'][\"puntajes\"][\"personalizado\"]))"
   ]
  }
 ],
 "metadata": {
  "kernelspec": {
   "display_name": "Python 3.10.0 ('venv': venv)",
   "language": "python",
   "name": "python3"
  },
  "language_info": {
   "codemirror_mode": {
    "name": "ipython",
    "version": 3
   },
   "file_extension": ".py",
   "mimetype": "text/x-python",
   "name": "python",
   "nbconvert_exporter": "python",
   "pygments_lexer": "ipython3",
   "version": "3.10.0"
  },
  "orig_nbformat": 4,
  "vscode": {
   "interpreter": {
    "hash": "a1307b768a5dde9a359ac65aec2fb8613f83f5129f7854f24969257050288ceb"
   }
  }
 },
 "nbformat": 4,
 "nbformat_minor": 2
}
