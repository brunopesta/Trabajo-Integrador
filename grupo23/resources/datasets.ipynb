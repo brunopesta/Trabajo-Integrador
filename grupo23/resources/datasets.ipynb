{
 "cells": [
  {
   "cell_type": "markdown",
   "metadata": {},
   "source": [
    "# Proceso de Conversion de los Datasets originales a los archivos CSV que serviran de datos para el juego\n",
    "\n",
    "Los datasets elegidos para el desarrollo del juego son: \n",
    "* GRUPO A:\n",
    "    - Lagos\n",
    "    - Top 100 de temas musicales de Spotify 2010 a 2019\n",
    " * GRUPO B:\n",
    "    - FIFA 2021 Complete Player Dataset"
   ]
  },
  {
   "cell_type": "markdown",
   "metadata": {},
   "source": [
    "## Lagos\n",
    "\n",
    "##### Proceso Paso a Paso\n",
    "\n",
    "Primero la importacion de los modulos os y csv que seran necesarios para operar sobre los archivos\n",
    "\n",
    "Tambien se importa desde el archivo config.py la ruta FILES_ROOT = ```os.path.abspath(os.path.join(ROOT, \"files\"))```"
   ]
  },
  {
   "cell_type": "code",
   "execution_count": 1,
   "metadata": {},
   "outputs": [],
   "source": [
    "import os\n",
    "import csv\n",
    "from config import FILES_ROOT"
   ]
  },
  {
   "cell_type": "markdown",
   "metadata": {},
   "source": [
    "### 1. Definir las funciones que serviran para el procesamiento de los datos"
   ]
  },
  {
   "cell_type": "markdown",
   "metadata": {},
   "source": [
    "#### ```def pasaje_sexagesimal(linea):```\n",
    "\n",
    "Esta función es utilizada para convertir la columna de coordenadas en grados decimales, para lo cual hay que realizar una conversión desde el sistema sexagesimal a grados decimales.\n",
    "\n",
    "Los grados de la coordenada quedan como parte entera, los minutos se dividen por 60, y los segundos se dividen por 3600, luego se suman obteniendo asi las coordenadas expresadas en grados decimales.\n",
    "\n",
    "Notar que todas las coordenadas estan expresadas en 2 posiciones (una para la latitud y otra para la longitud, por ende al string final de la coordenada se le agrega un \"-\" seguido de la letra inicial del punto cardinal al que hace referencia, es decir S O N E , siendo este el mismo que estaba en el dato original)"
   ]
  },
  {
   "cell_type": "code",
   "execution_count": 2,
   "metadata": {},
   "outputs": [],
   "source": [
    "def pasaje_sexagesimal(linea):\n",
    "    \"\"\" toma la coordenada por parametro, la \"estandariza\" reemplazando los simbolos de grados minutos y segundos\n",
    "    por un caractger especial elegido.\n",
    "    Luego hace un split sobre cada string utilizando dicho caracter especial y asi obteniendo en una lista los elementos \n",
    "    correspondientes a grados - minutos - segundos - punto cardinal en este orden, para finalmente realizar las conversiones\n",
    "    casteando de int a str para las operaciones y volviendo a castear a str antes de retornar el valor completo procesado\"\"\"\n",
    "    coordenadas = list(map(lambda coord: coord.replace('°', \"-\").replace(\"'\",\"-\").replace('\"', \"-\"), linea.split(\" \")))\n",
    "    coordenadas = list(map(lambda elem : str(int(elem[0]) + int(elem[1])/60 + int(elem[2])/3600) + \"-\" + elem[3] , map(lambda elem: elem.split('-'), coordenadas)))\n",
    "    return \" \".join(coordenadas)"
   ]
  },
  {
   "cell_type": "markdown",
   "metadata": {},
   "source": [
    "#### ```def filtrado_lagos(csv_reader):```\n",
    "\n",
    "Recibe el csv Reader (sin el encabezado), toma los datos en una lista, y luego realiza los cambios para obtener los datos necesarios para el juego.\n",
    "\n",
    "- Se Mappea ordenando las lineas de acuerdo a la salida que se precisa para su posterior utilizacion: \"Ubicación”, “Superficie (km²)”, “Profundidad máxima (m)”, “Profundidad media (m)”, “Coordenadas” y “Nombre” .\n",
    "- La columna de las coordenadas, se pasa como parametro a la funcion ```pasaje_sexagesimal(linea[5])``` para asi guardar luego del mappeo las coordenadas ya convertidas a grados decimales.\n",
    "- Finalmente se retorna la estructura de ```datos``` que es una Lista de Listas (donde cada lista interna correponde a la informacion de un lago, con sus campos en strings)\n"
   ]
  },
  {
   "cell_type": "code",
   "execution_count": 3,
   "metadata": {},
   "outputs": [],
   "source": [
    "def filtrado_lagos(csv_reader):\n",
    "   \"\"\"Recibe el csv Reader (sin el encabezado), toma los datos en una lista, luego :\n",
    "   Primero Mappea sobre la lista de datos del csv reader en la columna 5 correspondiente a las coordenadas y le aplica la\n",
    "   funcion de conversion de sistema sexagesimal a grados decimales a cada elemento, para luego finalmente devolver una \n",
    "   lista de strings uniendo latitud y longitud por cada elemento dado en las coordenadas de la variable datos.\n",
    "   Finalmente reemplaza en cada una de las lineas de datos, la columna correspondiente a las coordenadas por el nuevo \n",
    "   formato de esta en grados decimales y retorna una lista de listas que contienen strings dentro.\"\"\"\n",
    "\n",
    "   return list(map(lambda linea: [linea[1], linea[2], linea[3], linea[4], pasaje_sexagesimal(linea[5]), linea[0]], list(csv_reader)))\n",
    "  \n",
    "   "
   ]
  },
  {
   "cell_type": "markdown",
   "metadata": {},
   "source": [
    "#### ```def crear_lagos(csv_writer, lagos, encabezado):```\n",
    "Recibe el csv_writer, la lista de lagos (lista de listas, cada lista interna es un lago y cada string dentro de esta lista es un dato correspondiente a dicho lago), y el encabezado original.\n",
    "\n",
    "- Primero: realiza el corrimiento de los elementos del encabezado al nuevo formato de columnas que se necesita (anteriormente mencionado).\n",
    "- Segundo: Escribe el nuevo archivo en el formato que se necesita para el juego, primero el encabezado y luego iterando sobre cada uno de los elementos de la lista de lagos, escribiendo linea a lineea en el nuevo csv"
   ]
  },
  {
   "cell_type": "code",
   "execution_count": 4,
   "metadata": {},
   "outputs": [],
   "source": [
    "def crear_lagos(csv_writer, lagos, encabezado):\n",
    "    \"\"\" Realiza los corrimientos en la lista de lagos y encabezado original, y luego crea un csv escribiendo\n",
    "    linea por linea los datos en  el orden que se los necesitara posteriormente\"\"\"\n",
    "    encabezado = [encabezado[1].title(), encabezado[2].title(), encabezado[3].title(), encabezado[4].title(), encabezado[5].title(), encabezado[0].title()]\n",
    "    csv_writer.writerow(encabezado)\n",
    "    for elem in lagos:\n",
    "        csv_writer.writerow(elem)"
   ]
  },
  {
   "cell_type": "markdown",
   "metadata": {},
   "source": [
    "## 2. Declaracion de las rutas a utilizar dentro de la estructura de archivos del juego\n",
    "\n",
    "La estructura cuenta con una carpeta llamada \"files\".\n",
    "\n",
    "En dicha carpeta, se encuentra una carpeta con el nombre \"datasets_base\" en la cual se almacenan los datasets originales.\n",
    "\n",
    "Los datasets modificados y listos para la utilizacion de acuerdo a los requerimientos del juego, seran guardados dentro de la carpeta \"files\" en una carpeta llamada \"datasets_final\"\n",
    "\n",
    "Es decir, desde donde se ejecuta el programa:\n",
    "\n",
    ". >files>datasets_base                      -   aqui se ecuentran los archivos csv originales\n",
    "\n",
    ". >files>datasets_final                     -   aqui se almacenaran los archivos csv procesados y posteriormente utilizados para la funcionalidad del juego"
   ]
  },
  {
   "cell_type": "code",
   "execution_count": 5,
   "metadata": {},
   "outputs": [],
   "source": [
    "files = \"files\"\n",
    "origen = \"datasets_base\"\n",
    "destino = \"datasets_final\"\n",
    "\n",
    "ruta_completa = FILES_ROOT\n"
   ]
  },
  {
   "cell_type": "markdown",
   "metadata": {},
   "source": [
    "## 3. Apertura del archivo ORIGINAL y su procesamiento\n",
    "\n",
    "Se abre el archivo origen (con el csv sin procesar aun), haciendo un Join de la \"ruta_completa\" con \"origen\".\n",
    "\n",
    "Se Inicializa el csv reader y se lee la primera linea(el encabezado) que es guardado en una variable para su posterior uso.\n",
    "\n",
    "Se guarda en una variable la lista de retorno al invocar a la funcion ```filtrado(csv_reader)``` enviando el csv_reader como parametro."
   ]
  },
  {
   "cell_type": "code",
   "execution_count": 6,
   "metadata": {},
   "outputs": [],
   "source": [
    "\n",
    "with open (os.path.join(ruta_completa,origen, \"lagos.csv\"), 'r', encoding='utf-8') as archivo:\n",
    "    csv_reader = csv.reader(archivo, delimiter=\",\")\n",
    "    encabezado = next(csv_reader)\n",
    "    lagos_final = filtrado_lagos(csv_reader)"
   ]
  },
  {
   "cell_type": "markdown",
   "metadata": {},
   "source": [
    "## 4. Creacion del archivo FINAL\n",
    "\n",
    "Una vez realizado el procesamiento de datos sobre el archivo original, se procede a la escritura del archivo Final de destino, el cual pasara a ser el archivo utilizado posteriormente para implementar la jugabilidad del software.\n",
    "\n",
    "Se inicializa un csv writer, y se invoca a la funcion ```crear_lagos(csv_writer, lagos_final, encabezado)``` pasando como parametro el csv writer, la lista de lagos procesada anteriormente y el encabezado del archivo original"
   ]
  },
  {
   "cell_type": "code",
   "execution_count": 7,
   "metadata": {},
   "outputs": [],
   "source": [
    "with open(os.path.join(ruta_completa,destino, \"lagos_filtrado.csv\"), 'w', encoding='utf-8', newline = '') as archivo_filtrado:\n",
    "    csv_writer = csv.writer(archivo_filtrado)\n",
    "    crear_lagos(csv_writer, lagos_final, encabezado)"
   ]
  },
  {
   "cell_type": "markdown",
   "metadata": {},
   "source": [
    "## Top 100 de temas musicales de Spotify 2010 a 2019\n",
    "\n",
    "##### Proceso Paso a Paso\n",
    "\n",
    "La importacion de los modulos os y csv que seran necesarios para operar sobre los archivos ya fue realizada anteriormente por lo que no es necesario hacerlo nuevamente, ya que se realiza una sola vez por sesion de interprete.\n"
   ]
  },
  {
   "cell_type": "markdown",
   "metadata": {},
   "source": [
    "### 1. Definir las funciones que serviran para el procesamiento de los datos"
   ]
  },
  {
   "cell_type": "markdown",
   "metadata": {},
   "source": [
    "#### ``` def filtrado_spotify(csv_reader):```\n",
    "\n",
    "Recibe por parametro el csv reader y crea una lista de listas con Strings adentro con los datos del mismo, quedando asi una lista para cada linea del csv dentro de la lista principal. \n",
    "\n",
    "Filtra y ordena la lista de quedandose en principio con las 6 columnas necesarias y desechando el resto de las columnas que no seran utilizadas posteriormente, al mismo tiempo que deja en la variable ```datos``` una lista ya ordenada por las columnas que luego se necesitaran escribir en el csv final para la jugabidildad de la aplicacion.\n",
    "\n",
    "Realiza los cambios necesarios en la coluna de \"top genre\" pasando a mayuscula las expeciones explicitadas: \" EDM, DFW, UK LGBTQ+ \" y posteriormente a title case todos los generos musicales, contemplando y tratando las excepciones de manera diferencial para no alterar su estilo mediante la invocacion a la funcion ```estilo_generos(genero)```.\n",
    "\n",
    "Notar que: las excepciones k-pop y r&b no son tratadas como excepciones o casos especiales dado que al pasarlas a title case como todas las otras, tomaran el formato deseado\n",
    "\n",
    "Filtra aquellas lineas que tengan la primer columna vacia para evitar errores de insercion en el archvio csv final.\n",
    "\n",
    "Retorna una lista de listas con los campos ya ordenados y listos para escribir en el archivo csv final"
   ]
  },
  {
   "cell_type": "code",
   "execution_count": 8,
   "metadata": {},
   "outputs": [],
   "source": [
    "def filtrado_spotify(csv_reader):\n",
    "    \"\"\"Recibe por parametro el csv reader y crea una lista con los datos del mismo. Filtra y ordena la lista de quedandose\n",
    "    en principio con las 6 columnas necesarias y desechando el resto de las columnas que no seran utilizadas posteriormente,\n",
    "    dejando en la variable datos una lista ya ordenada por las columnas que luego se necesitaran escribir en el csv final\n",
    "    Realiza los cambios necesarios en la coluna de \"top genre\" pasando a title case y contemplando las excepciones EDM, DFW, UK LGBTQ+\n",
    "    k-pop y r&b no son tratadas como excepciones especiales dado que al pasarlas a title case como todas las otras, tomaran el formato\n",
    "    deseado\n",
    "    Filtra aquellas lineas que tengan la primer columna vacia\"\"\"\n",
    "    siglas = ['edm', 'dfw', 'uk', 'lgbtq+']\n",
    "    upper_case = list(map(lambda elem: elem.upper(), siglas))\n",
    "    datos = list(filter(lambda linea: linea[0]!= \"\" ,map(lambda linea: [estilo_generos(linea[2].replace(siglas[0], upper_case[0]).replace(siglas[1], upper_case[1]).replace(siglas[2], upper_case[2]).replace(siglas[3], upper_case[3])),linea[16], linea[3],linea[15], linea[5], linea[1]], list(csv_reader))))\n",
    "    \n",
    "    return datos\n"
   ]
  },
  {
   "cell_type": "markdown",
   "metadata": {},
   "source": [
    "#### ``` def estilo_generos(genero, upper=['EDM', 'DFW', 'UK', 'LGBTQ+']):```\n",
    "\n",
    "Funcion auxiliar que evalua si el Genero pasado por parametro - String - contiene alguna de las excepciones de estilo para los nombres de los generos, que estan inicializadas por default.\n",
    "\n",
    "Si el genero contiene alguna de las excepciones, entonces la funcion evalua si el genero tiene mas palabras que la que dispara la excepcion. De ser asi, el resto de las palabras que componen el genero son pasadas a title case, conservando las mayusculas de la excepcion y uniendo todo a string nuevamente antes de retornarlo en el formato que se desea.\n",
    "\n",
    "Por el contrario, si no es ninguna de las excepciones por default, la funcion pasara a \"title case\" el string recibido y lo devolvera."
   ]
  },
  {
   "cell_type": "code",
   "execution_count": 9,
   "metadata": {},
   "outputs": [],
   "source": [
    "def estilo_generos(genero, upper_case=['EDM', 'DFW', 'UK', 'LGBTQ+']):\n",
    "    \"\"\" Funcion auxiliar que evalua si el genero pasado por parametro - String -  contiene alguna de las excepciones\n",
    "    de estilo para los nombres. Si contiene la excepcion, separa sus palabras en una lista e itera sobre estas pasando\n",
    "    a title case aquellas palabras que no sean ninguna de las excepciones.\n",
    "    Si no es un genero de excepcion, lo pasa a title case y lo retorna\"\"\"\n",
    "    if (upper_case[0] in genero or upper_case[1] in genero or upper_case[2] in genero or upper_case[3] in genero):\n",
    "        aux = genero.split(' ')             \n",
    "        for i in range(len(aux)):\n",
    "            if aux[i] not in upper_case:\n",
    "                aux[i] = aux[i].title()\n",
    "        return ' '.join(aux)\n",
    "    else:\n",
    "        return genero.title()"
   ]
  },
  {
   "cell_type": "markdown",
   "metadata": {},
   "source": [
    "#### ```def crear_spotify(csv_writer, lista, encabezado):```\n",
    "Recibe el csv_writer, la lista de top 100 temas musicales (lista de listas, cada lista interna es un tema musical y cada string dentro de esta lista es un dato correspondiente a dicho tema musical), y el encabezado original.\n",
    "\n",
    "- Primero: realiza el corrimiento de los elementos del encabezado al nuevo formato de columnas que se necesita (anteriormente mencionado).\n",
    "\n",
    "- Segundo: Escribe el nuevo archivo en el formato que se necesita para el juego, primero el encabezado y luego iterando sobre cada uno de los elementos de la lista de temas musicales, escribiendo linea a lineea en el nuevo csv"
   ]
  },
  {
   "cell_type": "code",
   "execution_count": 10,
   "metadata": {},
   "outputs": [],
   "source": [
    "def crear_spotify(csv_writer, spotify_list, encabezado):\n",
    "    \"\"\" Realiza los corrimientos en el encabezado original, y luego crea un csv escribiendo\n",
    "    linea por linea los datos en  el orden que se los necesitara posteriormente\"\"\"\n",
    "    encabezado = [encabezado[2].title(),encabezado[16].title(), encabezado[3].title(),encabezado[15].title(), encabezado[5].upper(), encabezado[1].title()]\n",
    "    csv_writer.writerow(encabezado)\n",
    "    for elem in spotify_list:\n",
    "        csv_writer.writerow(elem)"
   ]
  },
  {
   "cell_type": "markdown",
   "metadata": {},
   "source": [
    "## 3. Apertura del archivo ORIGINAL y su procesamiento\n",
    "\n",
    "Se abre el archivo origen (con el csv sin procesar aun), haciendo un Join de la \"ruta_completa\" con \"origen\".\n",
    "\n",
    "Se Inicializa el csv reader y se lee la primera linea(el encabezado) que es guardado en una variable para su posterior uso.\n",
    "\n",
    "Se guarda en una variable la lista de retorno al invocar a la funcion ```filtrado(csv_reader)``` enviando el csv_reader como parametro."
   ]
  },
  {
   "cell_type": "code",
   "execution_count": 11,
   "metadata": {},
   "outputs": [],
   "source": [
    "with open (os.path.join(ruta_completa,origen, \"spotify.csv\"), 'r', encoding='utf-8') as archivo:\n",
    "    csv_reader = csv.reader(archivo, delimiter=\",\")\n",
    "    encabezado = next(csv_reader)\n",
    "    spotify_list = filtrado_spotify(csv_reader)\n"
   ]
  },
  {
   "cell_type": "markdown",
   "metadata": {},
   "source": [
    "## 4. Creacion del archivo FINAL\n",
    "\n",
    "Una vez realizado el procesamiento de datos sobre el archivo original, se procede a la escritura del archivo Final de destino, el cual pasara a ser el archivo utilizado posteriormente para implementar la jugabilidad del software.\n",
    "\n",
    "Se inicializa un csv writer, y se invoca a la funcion ```crear_spotify(csv_writer, spotify_list, encabezado)``` pasando como parametro el csv writer, la lista de top 100 canciones spotify procesada anteriormente y el encabezado del archivo original"
   ]
  },
  {
   "cell_type": "code",
   "execution_count": 12,
   "metadata": {},
   "outputs": [],
   "source": [
    "with open(os.path.join(ruta_completa,destino, \"spotify_filtrado.csv\"), 'w', encoding='utf-8', newline = '') as archivo_filtrado:\n",
    "    csv_writer = csv.writer(archivo_filtrado)\n",
    "    crear_spotify(csv_writer, spotify_list, encabezado)"
   ]
  },
  {
   "cell_type": "markdown",
   "metadata": {},
   "source": [
    "## FIFA 2021 Complete Player Dataset\n",
    "\n",
    "##### Proceso Paso a Paso\n",
    "\n",
    "La importacion de los modulos os y csv que seran necesarios para operar sobre los archivos ya fue realizada anteriormente por lo que no es necesario hacerlo nuevamente, ya que se realiza una sola vez por sesion de interprete.\n"
   ]
  },
  {
   "cell_type": "markdown",
   "metadata": {},
   "source": [
    "### 1. Definir las funciones que serviran para el procesamiento de los datos"
   ]
  },
  {
   "cell_type": "markdown",
   "metadata": {},
   "source": [
    "#### ``` def potencial(score):```\n",
    "\n",
    "Recibe por parametro el String score correspondiente al valor de la columna del csv.\n",
    "\n",
    "Lo convierte a integer para luego hacer las comparaciones y asignarle de acuerdo al valor en la escala, un adjetivo calificativo que luego reemplazara al valor numerico en la columna de potencial del csv final."
   ]
  },
  {
   "cell_type": "code",
   "execution_count": 14,
   "metadata": {},
   "outputs": [],
   "source": [
    "def potencial(score):\n",
    "    \"\"\" Recibe por parametro el String score correspondiente al valor de la columna del csv. Lo convierte a integer para luego hacer las comparaciones y asignarle de acuerdo\n",
    "    al valor en la escala, un adjetivo calificativo que luego reemplazara al valor numerico en la columna de potencial del csv final. Se retorna dicho valor expresado como \n",
    "    adjetivo calificativo. \"\"\"\n",
    "\n",
    "    score = int(score)\n",
    "    if  score < 60: \n",
    "        score = \"Regular\" \n",
    "    elif score <= 79:\n",
    "        score = \"Bueno\"\n",
    "    elif score <= 89:\n",
    "        score = \"Muy Bueno\"\n",
    "    else:\n",
    "        score = \"Sobresaliente\"\n",
    "    return score\n"
   ]
  },
  {
   "cell_type": "markdown",
   "metadata": {},
   "source": [
    "#### ``` def posicion(posicion):```\n",
    "\n",
    "Recibe por parametro el String con la posicion o posiciones del jugador de futbol.\n",
    "\n",
    "1. Lo divide mediante el caracter \"|\" que separa las multiples posiciones del jugador, obteniendo asi una lista de posiciones\n",
    "2. Para cada posible posicion del jugador, segun sean las siglas de la misma, se reemplaza su valor por la descripcion en español de la misma\n",
    "3. Vuelve a unir mediante el caracter especial \"|\" las posiciones ya traducidas y retorna el dicho String\n"
   ]
  },
  {
   "cell_type": "code",
   "execution_count": 15,
   "metadata": {},
   "outputs": [],
   "source": [
    "\n",
    "def posicion(posicion):\n",
    "    \"\"\"\"  Recibe por parametro el String con la posicion o posiciones del jugador de futbol.\n",
    "    1. Lo divide mediante el caracter \"|\" que separa las multiples posiciones del jugador, obteniendo asi una lista de posiciones\n",
    "    2. Para cada posible posicion del jugador, segun sean las siglas de la misma, se reemplaza su valor por la descripcion en español de la misma\n",
    "    3. Vuelve a unir mediante el caracter especial \"|\" las posiciones ya traducidas y retorna el dicho String\"\"\"\n",
    "    \n",
    "    posicion = posicion.split('|')\n",
    "    for pos in range(0, len(posicion)):\n",
    "        match posicion[pos]:\n",
    "            case \"GK\": posicion[pos] = \"Arquero\"\n",
    "            case \"ST\": posicion[pos] = \"Segundo Delantero\"\n",
    "            case \"CF\": posicion[pos] = \"Delantero Centro\"\n",
    "            case \"RW\": posicion[pos] = \"Extremo Derecho\"\n",
    "            case \"LW\": posicion[pos] = \"Extremo Izquierdo\"\n",
    "            case \"LS\": posicion[pos] = \"Delantero Izquierdo\"\n",
    "            case \"RS\": posicion[pos] = \"Delantero Derecho\"\n",
    "            case \"CAM\": posicion[pos] = \"Centrocampista Ofensivo Central\"\n",
    "            case \"RAM\": posicion[pos] = \"Centrocampista Ofensivo Derecho\"\n",
    "            case \"LAM\": posicion[pos] = \"Centrocampista Ofensivo Izquierdo\"\n",
    "            case \"LM\": posicion[pos] = \"Mediocampista Izquierdo\"\n",
    "            case \"LCM\": posicion[pos] = \"Mediocampista Central Izquierdo\"\n",
    "            case \"CM\": posicion[pos] = \"Mediocampista Central\"\n",
    "            case \"RCM\": posicion[pos] = \"Mediocampista Central Derecho\"\n",
    "            case \"RM\": posicion[pos] = \"Mediocampista Derecho\"\n",
    "            case \"LDM\": posicion[pos] = \"Mediocampista Defensivo Izquierdo\"\n",
    "            case \"CDM\": posicion[pos] = \"Mediocampista Defensivo Central\"\n",
    "            case \"RDM\": posicion[pos] = \"Mediocampista Defensivo Derecho\"\n",
    "            case \"RWB\": posicion[pos] = \"Defensor Extremo Derecho\"\n",
    "            case \"RB\": posicion[pos] = \"Defensor Lateral Derecho\"\n",
    "            case \"RCB\": posicion[pos] = \"Defensor Central Derecho\"\n",
    "            case \"CB\": posicion[pos] = \"Defensor Central\"\n",
    "            case \"LCB\": posicion[pos] = \"Defensor Central Izquierdo\"\n",
    "            case \"LB\": posicion[pos] = \"Defensor Lateral Izquierdo\"\n",
    "            case \"LWB\": posicion[pos] = \"Defensor Extremo Izquierdo\"\n",
    "            case \"SW\": posicion[pos] = \"Libero\"\n",
    "    return \" | \".join(posicion)\n"
   ]
  },
  {
   "cell_type": "markdown",
   "metadata": {},
   "source": [
    "#### ``` def filtrado_fifa(csv_reader):```\n",
    "\n",
    "Recibe por parametro el csv reader y crea una lista de listas con Strings adentro con los datos del mismo, quedando asi una lista para cada linea del csv dentro de la lista principal. \n",
    "\n",
    "Mappea el csv reader al mismo tiempo que ordena los campos de acuerdo a el orden que se necesita para el csv final : “Team”, “Nationality”, “Position”, “Age”, “Potential” y “Name”.\n",
    "\n",
    "Para la columna posicion, se invoca a la funcion ```posicion(linea[3])``` que modifica y traduce al español dicho dato, y para la columna del potencial tambien se invoca a la funcion que hace el procesamiento de dicha informacion ```potencial(linea[7])```.\n",
    "\n",
    "Se retorna una Lista de listas, donde cada una de estas ultimas correspondera a un jugador y sus datos en formato Lista de Strings ordenados como anteriormente se explicito."
   ]
  },
  {
   "cell_type": "code",
   "execution_count": 20,
   "metadata": {},
   "outputs": [],
   "source": [
    "def filtrado_fifa(csv_reader):\n",
    "    \"\"\" Recibe por parametro el csv reader y crea una lista de listas con Strings adentro con los datos del mismo, quedando asi una lista para cada linea del csv dentro de la lista principal. \n",
    "    Mappea el csv reader al mismo tiempo que ordena los campos de acuerdo a el orden que se necesita para el csv final : “Team”, “Nationality”, “Position”, “Age”, “Potential” y “Name”.\n",
    "    Para la columna posicion, se invoca a la funcion posicion(pos) que modifica y traduce al español dicho dato, y para la columna del potencial tambien se invoca a la funcion que\n",
    "    hace el procesamiento de dicha informacion potencial(numero).\n",
    "    Se retorna una Lista de listas, donde cada una de estas ultimas correspondera a un jugador y sus datos en formato Lista de Strings ordenados como anteriormente se explicito.\"\"\"\n",
    "    return list(map(lambda linea: [linea[8],linea[2], posicion(linea[3]), linea[5], potencial(linea[7]), linea[1]], list(csv_reader)))\n"
   ]
  },
  {
   "cell_type": "markdown",
   "metadata": {},
   "source": [
    "#### ```def crear_fifa(csv_writer, lista, encabezado):```\n",
    "Recibe el csv_writer, la lista de jugadores de Fifa (lista de listas, cada lista interna es un jugador y cada string dentro de esta lista es un dato correspondiente a dicho jugador), y el encabezado original.\n",
    "\n",
    "- Primero: realiza el corrimiento de los elementos del encabezado al nuevo formato de columnas que se necesita (anteriormente mencionado).\n",
    "\n",
    "- Segundo: Escribe el nuevo archivo en el formato que se necesita para el juego, primero el encabezado y luego iterando sobre cada uno de los elementos de la lista de temas musicales, escribiendo linea a lineea en el nuevo csv"
   ]
  },
  {
   "cell_type": "code",
   "execution_count": 17,
   "metadata": {},
   "outputs": [],
   "source": [
    "def crear_spotify(csv_writer, fifa_set, encabezado):\n",
    "    \"\"\" Realiza los corrimientos en el encabezado original, y luego crea un csv escribiendo\n",
    "    linea por linea los datos en  el orden que se los necesitara posteriormente\"\"\"\n",
    "    encabezado = [encabezado[8].title(),encabezado[2].title(), encabezado[3].title(), encabezado[5].title(), encabezado[7].title(), encabezado[1].title()]\n",
    "    csv_writer.writerow(encabezado)\n",
    "    for elem in fifa_set:\n",
    "        csv_writer.writerow(elem)"
   ]
  },
  {
   "cell_type": "markdown",
   "metadata": {},
   "source": [
    "## 3. Apertura del archivo ORIGINAL y su procesamiento\n",
    "\n",
    "Se abre el archivo origen (con el csv sin procesar aun), haciendo un Join de la \"ruta_completa\" con \"origen\".\n",
    "\n",
    "Se Inicializa el csv reader y se lee la primera linea(el encabezado) que es guardado en una variable para su posterior uso.\n",
    "\n",
    "Se guarda en una variable la lista de retorno al invocar a la funcion ```filtrado(csv_reader)``` enviando el csv_reader como parametro."
   ]
  },
  {
   "cell_type": "code",
   "execution_count": 18,
   "metadata": {},
   "outputs": [],
   "source": [
    "with open (os.path.join(ruta_completa,origen, \"FIFA-21.csv\"), 'r', encoding='utf-8') as archivo:\n",
    "    csv_reader = csv.reader(archivo, delimiter=\";\")\n",
    "    encabezado = next(csv_reader)\n",
    "    fifa_set = filtrado_fifa(csv_reader)"
   ]
  },
  {
   "cell_type": "markdown",
   "metadata": {},
   "source": [
    "## 4. Creacion del archivo FINAL\n",
    "\n",
    "Una vez realizado el procesamiento de datos sobre el archivo original, se procede a la escritura del archivo Final de destino, el cual pasara a ser el archivo utilizado posteriormente para implementar la jugabilidad del software.\n",
    "\n",
    "Se inicializa un csv writer, y se invoca a la funcion ```crear_fifa(csv_writer, fifa_set, encabezado)``` pasando como parametro el csv writer, la lista de jugadores Fifa procesada anteriormente y el encabezado del archivo original"
   ]
  },
  {
   "cell_type": "code",
   "execution_count": 19,
   "metadata": {},
   "outputs": [],
   "source": [
    "with open(os.path.join(ruta_completa,destino, \"fifa_filtrado.csv\"), 'w', encoding='utf-8', newline = '') as archivo_filtrado:\n",
    "    csv_writer = csv.writer(archivo_filtrado)\n",
    "    crear_spotify(csv_writer, fifa_set, encabezado)"
   ]
  }
 ],
 "metadata": {
  "interpreter": {
   "hash": "520a670bbe5c27f2e9b1c1f578d0db835d33696aa76c14db36ec792c06b37771"
  },
  "kernelspec": {
   "display_name": "Python 3.10.0 64-bit",
   "language": "python",
   "name": "python3"
  },
  "language_info": {
   "codemirror_mode": {
    "name": "ipython",
    "version": 3
   },
   "file_extension": ".py",
   "mimetype": "text/x-python",
   "name": "python",
   "nbconvert_exporter": "python",
   "pygments_lexer": "ipython3",
   "version": "3.10.0"
  },
  "orig_nbformat": 4
 },
 "nbformat": 4,
 "nbformat_minor": 2
}
